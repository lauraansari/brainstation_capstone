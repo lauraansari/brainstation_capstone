{
 "cells": [
  {
   "cell_type": "markdown",
   "metadata": {},
   "source": [
    "### **Notebook 1 - Data Loading and cleaning**"
   ]
  },
  {
   "cell_type": "markdown",
   "metadata": {},
   "source": [
    "### Introduction\n",
    "\n",
    "Problem statement\n",
    "\n",
    "Expected impact"
   ]
  },
  {
   "cell_type": "markdown",
   "metadata": {},
   "source": [
    "#### Importing libraries \n",
    "\n",
    "The following libraries are needed for the data cleaning process:"
   ]
  },
  {
   "cell_type": "code",
   "execution_count": 2,
   "metadata": {},
   "outputs": [],
   "source": [
    "# Loading libraries\n",
    "\n",
    "import numpy as np\n",
    "import pandas as pd\n",
    "import matplotlib.pyplot as plt"
   ]
  },
  {
   "cell_type": "markdown",
   "metadata": {},
   "source": [
    "---"
   ]
  },
  {
   "cell_type": "markdown",
   "metadata": {},
   "source": [
    "### Loading and extracting data\n",
    "\n",
    "After loading the dataset, I want to have a look at the shape of dataframe, the data types of each column and a quick descriptive statistical overview of the dataframe. \n",
    "\n",
    "Since the dataset contains measurements from multiple cities and I want to focus on a certain location, I will filter the dataset and extract a subset of it, containing only the measurements from Los Angeles."
   ]
  },
  {
   "cell_type": "code",
   "execution_count": 3,
   "metadata": {},
   "outputs": [
    {
     "data": {
      "text/html": [
       "<div>\n",
       "<style scoped>\n",
       "    .dataframe tbody tr th:only-of-type {\n",
       "        vertical-align: middle;\n",
       "    }\n",
       "\n",
       "    .dataframe tbody tr th {\n",
       "        vertical-align: top;\n",
       "    }\n",
       "\n",
       "    .dataframe thead th {\n",
       "        text-align: right;\n",
       "    }\n",
       "</style>\n",
       "<table border=\"1\" class=\"dataframe\">\n",
       "  <thead>\n",
       "    <tr style=\"text-align: right;\">\n",
       "      <th></th>\n",
       "      <th>Unnamed: 0</th>\n",
       "      <th>CBSA Code</th>\n",
       "      <th>Date</th>\n",
       "      <th>AQI</th>\n",
       "      <th>Category</th>\n",
       "      <th>Defining Parameter</th>\n",
       "      <th>Number of Sites Reporting</th>\n",
       "      <th>city_ascii</th>\n",
       "      <th>state_id</th>\n",
       "      <th>state_name</th>\n",
       "      <th>lat</th>\n",
       "      <th>lng</th>\n",
       "      <th>population</th>\n",
       "      <th>density</th>\n",
       "      <th>timezone</th>\n",
       "    </tr>\n",
       "  </thead>\n",
       "  <tbody>\n",
       "    <tr>\n",
       "      <th>803120</th>\n",
       "      <td>817703</td>\n",
       "      <td>35380</td>\n",
       "      <td>2017-01-16</td>\n",
       "      <td>35</td>\n",
       "      <td>Good</td>\n",
       "      <td>Ozone</td>\n",
       "      <td>10</td>\n",
       "      <td>New Orleans</td>\n",
       "      <td>LA</td>\n",
       "      <td>Louisiana</td>\n",
       "      <td>30.0687</td>\n",
       "      <td>-89.9288</td>\n",
       "      <td>957783.0</td>\n",
       "      <td>891.0</td>\n",
       "      <td>America/Chicago</td>\n",
       "    </tr>\n",
       "    <tr>\n",
       "      <th>2983589</th>\n",
       "      <td>3036394</td>\n",
       "      <td>14180</td>\n",
       "      <td>2003-01-03</td>\n",
       "      <td>43</td>\n",
       "      <td>Good</td>\n",
       "      <td>PM2.5</td>\n",
       "      <td>1</td>\n",
       "      <td>Blytheville</td>\n",
       "      <td>AR</td>\n",
       "      <td>Arkansas</td>\n",
       "      <td>35.9321</td>\n",
       "      <td>-89.9051</td>\n",
       "      <td>13735.0</td>\n",
       "      <td>255.0</td>\n",
       "      <td>America/Chicago</td>\n",
       "    </tr>\n",
       "    <tr>\n",
       "      <th>1239264</th>\n",
       "      <td>1262317</td>\n",
       "      <td>19700</td>\n",
       "      <td>2014-03-14</td>\n",
       "      <td>46</td>\n",
       "      <td>Good</td>\n",
       "      <td>Ozone</td>\n",
       "      <td>1</td>\n",
       "      <td>Deming</td>\n",
       "      <td>NM</td>\n",
       "      <td>New Mexico</td>\n",
       "      <td>32.2631</td>\n",
       "      <td>-107.7525</td>\n",
       "      <td>14083.0</td>\n",
       "      <td>325.0</td>\n",
       "      <td>America/Denver</td>\n",
       "    </tr>\n",
       "    <tr>\n",
       "      <th>1448081</th>\n",
       "      <td>1474673</td>\n",
       "      <td>29740</td>\n",
       "      <td>2013-09-06</td>\n",
       "      <td>84</td>\n",
       "      <td>Moderate</td>\n",
       "      <td>Ozone</td>\n",
       "      <td>9</td>\n",
       "      <td>Las Cruces</td>\n",
       "      <td>NM</td>\n",
       "      <td>New Mexico</td>\n",
       "      <td>32.3265</td>\n",
       "      <td>-106.7893</td>\n",
       "      <td>129538.0</td>\n",
       "      <td>516.0</td>\n",
       "      <td>America/Denver</td>\n",
       "    </tr>\n",
       "    <tr>\n",
       "      <th>4868592</th>\n",
       "      <td>4956168</td>\n",
       "      <td>15540</td>\n",
       "      <td>1988-09-10</td>\n",
       "      <td>44</td>\n",
       "      <td>Good</td>\n",
       "      <td>Ozone</td>\n",
       "      <td>2</td>\n",
       "      <td>Burlington</td>\n",
       "      <td>VT</td>\n",
       "      <td>Vermont</td>\n",
       "      <td>44.4876</td>\n",
       "      <td>-73.2316</td>\n",
       "      <td>115682.0</td>\n",
       "      <td>1596.0</td>\n",
       "      <td>America/New_York</td>\n",
       "    </tr>\n",
       "  </tbody>\n",
       "</table>\n",
       "</div>"
      ],
      "text/plain": [
       "         Unnamed: 0  CBSA Code        Date  AQI  Category Defining Parameter  \\\n",
       "803120       817703      35380  2017-01-16   35      Good              Ozone   \n",
       "2983589     3036394      14180  2003-01-03   43      Good              PM2.5   \n",
       "1239264     1262317      19700  2014-03-14   46      Good              Ozone   \n",
       "1448081     1474673      29740  2013-09-06   84  Moderate              Ozone   \n",
       "4868592     4956168      15540  1988-09-10   44      Good              Ozone   \n",
       "\n",
       "         Number of Sites Reporting   city_ascii state_id  state_name      lat  \\\n",
       "803120                          10  New Orleans       LA   Louisiana  30.0687   \n",
       "2983589                          1  Blytheville       AR    Arkansas  35.9321   \n",
       "1239264                          1       Deming       NM  New Mexico  32.2631   \n",
       "1448081                          9   Las Cruces       NM  New Mexico  32.3265   \n",
       "4868592                          2   Burlington       VT     Vermont  44.4876   \n",
       "\n",
       "              lng  population  density          timezone  \n",
       "803120   -89.9288    957783.0    891.0   America/Chicago  \n",
       "2983589  -89.9051     13735.0    255.0   America/Chicago  \n",
       "1239264 -107.7525     14083.0    325.0    America/Denver  \n",
       "1448081 -106.7893    129538.0    516.0    America/Denver  \n",
       "4868592  -73.2316    115682.0   1596.0  America/New_York  "
      ]
     },
     "execution_count": 3,
     "metadata": {},
     "output_type": "execute_result"
    }
   ],
   "source": [
    "# Loading the dataset\n",
    "\n",
    "aqi_df = pd.read_csv('data/airquality.csv')\n",
    "\n",
    "aqi_df.sample(5)"
   ]
  },
  {
   "cell_type": "code",
   "execution_count": 4,
   "metadata": {},
   "outputs": [
    {
     "name": "stdout",
     "output_type": "stream",
     "text": [
      "The dataframe has 5617325 rows and 15 columns.\n"
     ]
    }
   ],
   "source": [
    "# Checking the shape of the dataframe\n",
    "\n",
    "print(f'The dataframe has {aqi_df.shape[0]} rows and {aqi_df.shape[1]} columns.')"
   ]
  },
  {
   "cell_type": "code",
   "execution_count": 5,
   "metadata": {},
   "outputs": [
    {
     "data": {
      "text/html": [
       "<div>\n",
       "<style scoped>\n",
       "    .dataframe tbody tr th:only-of-type {\n",
       "        vertical-align: middle;\n",
       "    }\n",
       "\n",
       "    .dataframe tbody tr th {\n",
       "        vertical-align: top;\n",
       "    }\n",
       "\n",
       "    .dataframe thead th {\n",
       "        text-align: right;\n",
       "    }\n",
       "</style>\n",
       "<table border=\"1\" class=\"dataframe\">\n",
       "  <thead>\n",
       "    <tr style=\"text-align: right;\">\n",
       "      <th></th>\n",
       "      <th>count</th>\n",
       "      <th>mean</th>\n",
       "      <th>std</th>\n",
       "      <th>min</th>\n",
       "      <th>25%</th>\n",
       "      <th>50%</th>\n",
       "      <th>75%</th>\n",
       "      <th>max</th>\n",
       "    </tr>\n",
       "  </thead>\n",
       "  <tbody>\n",
       "    <tr>\n",
       "      <th>Unnamed: 0</th>\n",
       "      <td>5617325.0</td>\n",
       "      <td>2.858637e+06</td>\n",
       "      <td>1.650380e+06</td>\n",
       "      <td>0.0000</td>\n",
       "      <td>1.430628e+06</td>\n",
       "      <td>2.857802e+06</td>\n",
       "      <td>4.287185e+06</td>\n",
       "      <td>5.718370e+06</td>\n",
       "    </tr>\n",
       "    <tr>\n",
       "      <th>CBSA Code</th>\n",
       "      <td>5617325.0</td>\n",
       "      <td>3.028285e+04</td>\n",
       "      <td>1.142715e+04</td>\n",
       "      <td>10100.0000</td>\n",
       "      <td>2.010000e+04</td>\n",
       "      <td>3.034000e+04</td>\n",
       "      <td>4.042000e+04</td>\n",
       "      <td>4.974000e+04</td>\n",
       "    </tr>\n",
       "    <tr>\n",
       "      <th>AQI</th>\n",
       "      <td>5617325.0</td>\n",
       "      <td>4.665572e+01</td>\n",
       "      <td>3.570811e+01</td>\n",
       "      <td>0.0000</td>\n",
       "      <td>3.000000e+01</td>\n",
       "      <td>4.100000e+01</td>\n",
       "      <td>5.400000e+01</td>\n",
       "      <td>2.064600e+04</td>\n",
       "    </tr>\n",
       "    <tr>\n",
       "      <th>Number of Sites Reporting</th>\n",
       "      <td>5617325.0</td>\n",
       "      <td>3.650273e+00</td>\n",
       "      <td>5.092484e+00</td>\n",
       "      <td>1.0000</td>\n",
       "      <td>1.000000e+00</td>\n",
       "      <td>2.000000e+00</td>\n",
       "      <td>4.000000e+00</td>\n",
       "      <td>7.200000e+01</td>\n",
       "    </tr>\n",
       "    <tr>\n",
       "      <th>lat</th>\n",
       "      <td>5617325.0</td>\n",
       "      <td>3.849210e+01</td>\n",
       "      <td>5.595372e+00</td>\n",
       "      <td>17.9743</td>\n",
       "      <td>3.494420e+01</td>\n",
       "      <td>3.918860e+01</td>\n",
       "      <td>4.211550e+01</td>\n",
       "      <td>6.483530e+01</td>\n",
       "    </tr>\n",
       "    <tr>\n",
       "      <th>lng</th>\n",
       "      <td>5617325.0</td>\n",
       "      <td>-9.425695e+01</td>\n",
       "      <td>1.678664e+01</td>\n",
       "      <td>-159.3521</td>\n",
       "      <td>-1.069642e+02</td>\n",
       "      <td>-8.893420e+01</td>\n",
       "      <td>-8.154200e+01</td>\n",
       "      <td>-6.606100e+01</td>\n",
       "    </tr>\n",
       "    <tr>\n",
       "      <th>population</th>\n",
       "      <td>5617325.0</td>\n",
       "      <td>5.642292e+05</td>\n",
       "      <td>1.537382e+06</td>\n",
       "      <td>1903.0000</td>\n",
       "      <td>2.843700e+04</td>\n",
       "      <td>1.225490e+05</td>\n",
       "      <td>3.913710e+05</td>\n",
       "      <td>1.868002e+07</td>\n",
       "    </tr>\n",
       "    <tr>\n",
       "      <th>density</th>\n",
       "      <td>5617325.0</td>\n",
       "      <td>1.083637e+03</td>\n",
       "      <td>1.013632e+03</td>\n",
       "      <td>4.0000</td>\n",
       "      <td>5.250000e+02</td>\n",
       "      <td>8.340000e+02</td>\n",
       "      <td>1.255000e+03</td>\n",
       "      <td>1.076800e+04</td>\n",
       "    </tr>\n",
       "  </tbody>\n",
       "</table>\n",
       "</div>"
      ],
      "text/plain": [
       "                               count          mean           std         min  \\\n",
       "Unnamed: 0                 5617325.0  2.858637e+06  1.650380e+06      0.0000   \n",
       "CBSA Code                  5617325.0  3.028285e+04  1.142715e+04  10100.0000   \n",
       "AQI                        5617325.0  4.665572e+01  3.570811e+01      0.0000   \n",
       "Number of Sites Reporting  5617325.0  3.650273e+00  5.092484e+00      1.0000   \n",
       "lat                        5617325.0  3.849210e+01  5.595372e+00     17.9743   \n",
       "lng                        5617325.0 -9.425695e+01  1.678664e+01   -159.3521   \n",
       "population                 5617325.0  5.642292e+05  1.537382e+06   1903.0000   \n",
       "density                    5617325.0  1.083637e+03  1.013632e+03      4.0000   \n",
       "\n",
       "                                    25%           50%           75%  \\\n",
       "Unnamed: 0                 1.430628e+06  2.857802e+06  4.287185e+06   \n",
       "CBSA Code                  2.010000e+04  3.034000e+04  4.042000e+04   \n",
       "AQI                        3.000000e+01  4.100000e+01  5.400000e+01   \n",
       "Number of Sites Reporting  1.000000e+00  2.000000e+00  4.000000e+00   \n",
       "lat                        3.494420e+01  3.918860e+01  4.211550e+01   \n",
       "lng                       -1.069642e+02 -8.893420e+01 -8.154200e+01   \n",
       "population                 2.843700e+04  1.225490e+05  3.913710e+05   \n",
       "density                    5.250000e+02  8.340000e+02  1.255000e+03   \n",
       "\n",
       "                                    max  \n",
       "Unnamed: 0                 5.718370e+06  \n",
       "CBSA Code                  4.974000e+04  \n",
       "AQI                        2.064600e+04  \n",
       "Number of Sites Reporting  7.200000e+01  \n",
       "lat                        6.483530e+01  \n",
       "lng                       -6.606100e+01  \n",
       "population                 1.868002e+07  \n",
       "density                    1.076800e+04  "
      ]
     },
     "execution_count": 5,
     "metadata": {},
     "output_type": "execute_result"
    }
   ],
   "source": [
    "# Having a quick overview of the descriptive stats of the dataframe (numerical columns only)\n",
    "\n",
    "aqi_df.describe().T"
   ]
  },
  {
   "cell_type": "code",
   "execution_count": 6,
   "metadata": {},
   "outputs": [],
   "source": [
    "# Extracting the new datafarame using with a Boolean filtering \n",
    "# (applying the filtering on the copy of the original dataframe)\n",
    "\n",
    "los_angeles_aqi_df = aqi_df[aqi_df['city_ascii']=='Los Angeles'].copy()"
   ]
  },
  {
   "cell_type": "code",
   "execution_count": 7,
   "metadata": {},
   "outputs": [
    {
     "name": "stdout",
     "output_type": "stream",
     "text": [
      "The new dataframe has 15341 rows and 15 columns.\n"
     ]
    }
   ],
   "source": [
    "# The shape of the extracted dataframe\n",
    "\n",
    "print(f'The new dataframe has {los_angeles_aqi_df.shape[0]} rows and {los_angeles_aqi_df.shape[1]} columns.')"
   ]
  },
  {
   "cell_type": "markdown",
   "metadata": {},
   "source": [
    "---"
   ]
  },
  {
   "cell_type": "markdown",
   "metadata": {},
   "source": [
    "### Data Cleaning"
   ]
  },
  {
   "cell_type": "markdown",
   "metadata": {},
   "source": [
    "During data cleaning, I will go through the following steps to make sure the dataframe is ready for analysis: \n",
    "\n",
    "- **Formatting**: the data types need to be fit for the purpose of the analysis\n",
    "- **Indexing**: the column containing the time values needs to be the index of the dataframe\n",
    "- **Duplicate** rows and columns: rows and columns should represent unique information\n",
    "- **Missing data**: there shouldn't be any missing values or indices"
   ]
  },
  {
   "cell_type": "markdown",
   "metadata": {},
   "source": [
    "**Formatting**"
   ]
  },
  {
   "cell_type": "code",
   "execution_count": 8,
   "metadata": {},
   "outputs": [
    {
     "name": "stdout",
     "output_type": "stream",
     "text": [
      "<class 'pandas.core.frame.DataFrame'>\n",
      "Index: 15341 entries, 114716 to 5576890\n",
      "Data columns (total 15 columns):\n",
      " #   Column                     Non-Null Count  Dtype  \n",
      "---  ------                     --------------  -----  \n",
      " 0   Unnamed: 0                 15341 non-null  int64  \n",
      " 1   CBSA Code                  15341 non-null  int64  \n",
      " 2   Date                       15341 non-null  object \n",
      " 3   AQI                        15341 non-null  int64  \n",
      " 4   Category                   15341 non-null  object \n",
      " 5   Defining Parameter         15341 non-null  object \n",
      " 6   Number of Sites Reporting  15341 non-null  int64  \n",
      " 7   city_ascii                 15341 non-null  object \n",
      " 8   state_id                   15341 non-null  object \n",
      " 9   state_name                 15341 non-null  object \n",
      " 10  lat                        15341 non-null  float64\n",
      " 11  lng                        15341 non-null  float64\n",
      " 12  population                 15341 non-null  float64\n",
      " 13  density                    15341 non-null  float64\n",
      " 14  timezone                   15341 non-null  object \n",
      "dtypes: float64(4), int64(4), object(7)\n",
      "memory usage: 1.9+ MB\n"
     ]
    }
   ],
   "source": [
    "# Checking the datatypes\n",
    "\n",
    "los_angeles_aqi_df.info()"
   ]
  },
  {
   "cell_type": "markdown",
   "metadata": {},
   "source": [
    "We can see that the data type of the `Date` column is object which is not fit for the purpose of this analysis, so I will change this column to datetime format. The rest of the columns are in the right data type, so I will leave them as they are."
   ]
  },
  {
   "cell_type": "code",
   "execution_count": 9,
   "metadata": {},
   "outputs": [],
   "source": [
    "# Changing the datatype of the Date column\n",
    "\n",
    "los_angeles_aqi_df['Date'] = pd.to_datetime(los_angeles_aqi_df['Date']).copy()"
   ]
  },
  {
   "cell_type": "markdown",
   "metadata": {},
   "source": [
    "**Indexing**"
   ]
  },
  {
   "cell_type": "markdown",
   "metadata": {},
   "source": [
    "Since I will be working with time series, the index of the dataframe needs to be the time values of the data. Right now this is not the case (see Data Loading section), so the index must be reset to the `Date` column. Before doing that, I will extract the day, month and year values of the timestamps into different columns to preserve them for further analysis in the next section.\n",
    "\n",
    "Currently the column stores the date values in a random order, so I will sort in an ascending order."
   ]
  },
  {
   "cell_type": "code",
   "execution_count": 10,
   "metadata": {},
   "outputs": [],
   "source": [
    "# Extracting day, month, and year values into new columns\n",
    "\n",
    "los_angeles_aqi_df['Year'] = los_angeles_aqi_df['Date'].dt.year\n",
    "los_angeles_aqi_df['Month'] = los_angeles_aqi_df['Date'].dt.month\n",
    "los_angeles_aqi_df['Day'] = los_angeles_aqi_df['Date'].dt.day"
   ]
  },
  {
   "cell_type": "code",
   "execution_count": 11,
   "metadata": {},
   "outputs": [],
   "source": [
    "# Resetting the index of the dataframe\n",
    "\n",
    "los_angeles_aqi_df = los_angeles_aqi_df.set_index('Date')"
   ]
  },
  {
   "cell_type": "code",
   "execution_count": 12,
   "metadata": {},
   "outputs": [],
   "source": [
    "# Sorting the df by the index (Date)\n",
    "\n",
    "los_angeles_aqi_df = los_angeles_aqi_df.sort_index()"
   ]
  },
  {
   "cell_type": "markdown",
   "metadata": {},
   "source": [
    "**Duplicate and redundant rows and columns**"
   ]
  },
  {
   "cell_type": "markdown",
   "metadata": {},
   "source": [
    "Having duplicate rows or columns could heavily distort the analysis and modeling, so I will check for duplicates and deal with them appropriately. I will also look for and remove columns that are not relevant for the current project.\n",
    "\n",
    "First let's check duplicate columns:"
   ]
  },
  {
   "cell_type": "code",
   "execution_count": 13,
   "metadata": {},
   "outputs": [
    {
     "data": {
      "text/plain": [
       "Unnamed: 0                   False\n",
       "CBSA Code                    False\n",
       "AQI                          False\n",
       "Category                     False\n",
       "Defining Parameter           False\n",
       "Number of Sites Reporting    False\n",
       "city_ascii                   False\n",
       "state_id                     False\n",
       "state_name                   False\n",
       "lat                          False\n",
       "lng                          False\n",
       "population                   False\n",
       "density                      False\n",
       "timezone                     False\n",
       "Year                         False\n",
       "Month                        False\n",
       "Day                          False\n",
       "dtype: bool"
      ]
     },
     "execution_count": 13,
     "metadata": {},
     "output_type": "execute_result"
    }
   ],
   "source": [
    "# Checking for duplicate columns\n",
    "\n",
    "los_angeles_aqi_df.T.duplicated()"
   ]
  },
  {
   "cell_type": "markdown",
   "metadata": {},
   "source": [
    "We can see there was no column picked up as a duplicate. However, we have a redundant column that are semantically identical. These are the `state_id` and `state_name` columns as they short the same information in full and shortened forms, so I will remove the former as the `state_name` is easier to comprehend.\n",
    "\n",
    "We also have some columns that are either nonsensical or not relevant for the analysis:\n",
    "\n",
    "- `Unnamed: 0` was a redundant index column that I don't need any longer\n",
    "- `CBSA` is a geographical marker related to the air monitors and is not relevant for the analysis"
   ]
  },
  {
   "cell_type": "code",
   "execution_count": 14,
   "metadata": {},
   "outputs": [],
   "source": [
    "# Removing duplicate and non-relevant columns\n",
    "\n",
    "los_angeles_aqi_df.drop(columns=['state_id', 'Unnamed: 0', 'CBSA Code'], inplace=True)"
   ]
  },
  {
   "cell_type": "markdown",
   "metadata": {},
   "source": [
    "Now let's check duplicate rows:"
   ]
  },
  {
   "cell_type": "code",
   "execution_count": 15,
   "metadata": {},
   "outputs": [
    {
     "data": {
      "text/plain": [
       "0"
      ]
     },
     "execution_count": 15,
     "metadata": {},
     "output_type": "execute_result"
    }
   ],
   "source": [
    "# Checking for duplicate rows\n",
    "\n",
    "los_angeles_aqi_df.duplicated().sum()"
   ]
  },
  {
   "cell_type": "markdown",
   "metadata": {},
   "source": [
    "There are no duplicate rows in the dataset, and the columns that were either semantically identical or not relevant for the analysis got removed from the dataset."
   ]
  },
  {
   "cell_type": "markdown",
   "metadata": {},
   "source": [
    "**Missing data**\n",
    "\n",
    "It's important we don't have any missing values or indicis in the dataset. First, I'll check for missing indices, then for missing values."
   ]
  },
  {
   "cell_type": "code",
   "execution_count": 16,
   "metadata": {},
   "outputs": [
    {
     "data": {
      "text/plain": [
       "DatetimeIndex([], dtype='datetime64[ns]', freq='D')"
      ]
     },
     "execution_count": 16,
     "metadata": {},
     "output_type": "execute_result"
    }
   ],
   "source": [
    "# Checking for missing indices\n",
    "\n",
    "ref_range = pd.date_range(\n",
    "    start=los_angeles_aqi_df.index.min(), \n",
    "    end=los_angeles_aqi_df.index.max(),\n",
    "    freq='D')\n",
    "\n",
    "ref_range.difference(los_angeles_aqi_df.index)"
   ]
  },
  {
   "cell_type": "markdown",
   "metadata": {},
   "source": [
    "The above query didn't return anything, which means that the are no differences between the reference range and our actual dataframe, so there are no missing indices in the dataset.\n",
    "\n",
    "Checking for missing values:"
   ]
  },
  {
   "cell_type": "code",
   "execution_count": 17,
   "metadata": {},
   "outputs": [
    {
     "data": {
      "text/plain": [
       "AQI                          0\n",
       "Category                     0\n",
       "Defining Parameter           0\n",
       "Number of Sites Reporting    0\n",
       "city_ascii                   0\n",
       "state_name                   0\n",
       "lat                          0\n",
       "lng                          0\n",
       "population                   0\n",
       "density                      0\n",
       "timezone                     0\n",
       "Year                         0\n",
       "Month                        0\n",
       "Day                          0\n",
       "dtype: int64"
      ]
     },
     "execution_count": 17,
     "metadata": {},
     "output_type": "execute_result"
    }
   ],
   "source": [
    "los_angeles_aqi_df.isna().sum()"
   ]
  },
  {
   "cell_type": "markdown",
   "metadata": {},
   "source": [
    "There are no missing values in the dataframe."
   ]
  },
  {
   "cell_type": "markdown",
   "metadata": {},
   "source": [
    "---"
   ]
  },
  {
   "cell_type": "markdown",
   "metadata": {},
   "source": [
    "**Saving Work**"
   ]
  },
  {
   "cell_type": "code",
   "execution_count": 18,
   "metadata": {},
   "outputs": [],
   "source": [
    "# Save cleaned data\n",
    "\n",
    "los_angeles_aqi_df.to_csv('data/cleaned_aqi.csv', index_label='Date')"
   ]
  },
  {
   "cell_type": "markdown",
   "metadata": {},
   "source": [
    "---"
   ]
  },
  {
   "cell_type": "markdown",
   "metadata": {},
   "source": [
    "**Notebook Ending Remarks**"
   ]
  },
  {
   "cell_type": "markdown",
   "metadata": {},
   "source": [
    "In this section, I have extracted the relevant parts of the datasets that I need for my analysis and merged them into a working dataframe. I have cleaned this dataframe to ensure its quality is as high as possible, so it can provide an accurate and reliable analysis in the next steps.\n",
    "\n",
    "In the next notebook, I'll explore the dataset to gain a better understanding that can inform the modelling process, and to draw some preliminary conclusions."
   ]
  }
 ],
 "metadata": {
  "kernelspec": {
   "display_name": "base",
   "language": "python",
   "name": "python3"
  },
  "language_info": {
   "codemirror_mode": {
    "name": "ipython",
    "version": 3
   },
   "file_extension": ".py",
   "mimetype": "text/x-python",
   "name": "python",
   "nbconvert_exporter": "python",
   "pygments_lexer": "ipython3",
   "version": "3.8.18"
  }
 },
 "nbformat": 4,
 "nbformat_minor": 2
}
